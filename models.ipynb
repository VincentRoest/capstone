{
 "cells": [
  {
   "cell_type": "markdown",
   "metadata": {},
   "source": [
    "###  https://github.com/jonbruner/tensorflow-basics/blob/master/save-load/save.ipynb"
   ]
  },
  {
   "cell_type": "code",
   "execution_count": 135,
   "metadata": {
    "collapsed": false
   },
   "outputs": [
    {
     "name": "stdout",
     "output_type": "stream",
     "text": [
      "Extracting MNIST_data/train-images-idx3-ubyte.gz\n",
      "Extracting MNIST_data/train-labels-idx1-ubyte.gz\n",
      "Extracting MNIST_data/t10k-images-idx3-ubyte.gz\n",
      "Extracting MNIST_data/t10k-labels-idx1-ubyte.gz\n"
     ]
    }
   ],
   "source": [
    "from tensorflow.examples.tutorials.mnist import input_data\n",
    "mnist = input_data.read_data_sets(\"MNIST_data/\", one_hot=True)\n",
    "\n",
    "## PUT MODELS IN DIFFERENT FILES AND SAVE THEM\n",
    "import numpy as np\n",
    "import matplotlib.pyplot as plt\n",
    "import matplotlib.cm as cm\n",
    "import matplotlib\n",
    "%matplotlib inline\n",
    "import tensorflow as tf\n",
    "import matplotlib.pyplot as plt\n",
    "import matplotlib.gridspec as gridspec\n",
    "import pylab\n",
    "from random import randint\n"
   ]
  },
  {
   "cell_type": "code",
   "execution_count": 136,
   "metadata": {
    "collapsed": true
   },
   "outputs": [],
   "source": [
    "train_digits, train_labels = mnist.train.images[:], mnist.train.labels[:]\n",
    "test_digits, test_labels = mnist.test.images[:], mnist.test.labels[:]"
   ]
  },
  {
   "cell_type": "code",
   "execution_count": 137,
   "metadata": {
    "collapsed": true
   },
   "outputs": [],
   "source": [
    "def data_iterator(x, y):\n",
    "    \"\"\" \n",
    "    A helper function to create batches for the training data \n",
    "    IN: \n",
    "        (1) np array: the training images\n",
    "        (2) np array: the labels [0000010000]\n",
    "    OUT:\n",
    "        Batches to train on using iter_.next()\n",
    "    \"\"\"\n",
    "    batch_idx = 0\n",
    "    while True:\n",
    "        # shuffle labels and features\n",
    "        idxs = np.arange(0, len(x))\n",
    "        np.random.shuffle(idxs)\n",
    "        shuf_features = x[idxs]\n",
    "        shuf_labels = y[idxs]\n",
    "        batch_size = 100\n",
    "        for batch_idx in range(0, len(x), batch_size):\n",
    "            images_batch = shuf_features[batch_idx:batch_idx+batch_size]\n",
    "            images_batch = images_batch.astype(\"float32\")\n",
    "            labels_batch = shuf_labels[batch_idx:batch_idx+batch_size]\n",
    "            yield images_batch, labels_batch      "
   ]
  },
  {
   "cell_type": "code",
   "execution_count": 138,
   "metadata": {
    "collapsed": true
   },
   "outputs": [],
   "source": [
    "sess = tf.InteractiveSession()"
   ]
  },
  {
   "cell_type": "markdown",
   "metadata": {},
   "source": [
    "# ONE LAYER"
   ]
  },
  {
   "cell_type": "code",
   "execution_count": 157,
   "metadata": {
    "collapsed": false
   },
   "outputs": [
    {
     "name": "stdout",
     "output_type": "stream",
     "text": [
      "0.9193\n",
      "Model saved to ./models/one_layer.ckpt\n",
      "CPU times: user 2.26 s, sys: 433 ms, total: 2.69 s\n",
      "Wall time: 1.43 s\n"
     ]
    }
   ],
   "source": [
    "%%time\n",
    "# ONE LAYER\n",
    "iter_ = data_iterator(train_digits, train_labels)      \n",
    "# MODEL HERE \n",
    "x = tf.placeholder(tf.float32, [None, 784], name=\"input\")\n",
    "y_ = tf.placeholder(tf.float32, [None, 10])\n",
    "# 10 weights to learn\n",
    "w1 = tf.Variable(tf.zeros([784, 10]))\n",
    "# 10 biases to learn\n",
    "b1 = tf.Variable(tf.zeros([10]))    \n",
    "y = tf.nn.softmax(tf.matmul(x, w1) + b1, name=\"output\")\n",
    "\n",
    "init = tf.initialize_all_variables()\n",
    "sess.run(init)\n",
    "\n",
    "cross_entropy = tf.reduce_mean(-tf.reduce_sum(y_ * tf.log(y), reduction_indices=[1]))\n",
    "# use gradient descent just because.\n",
    "train_step = tf.train.GradientDescentOptimizer(0.5).minimize(cross_entropy)\n",
    "\n",
    "correct_prediction = tf.equal(tf.argmax(y,1), tf.argmax(y_,1))\n",
    "accuracy = tf.reduce_mean(tf.cast(correct_prediction, tf.float32))\n",
    "init = tf.initialize_all_variables()\n",
    "sess.run(init)\n",
    "\n",
    "for _ in range(1000):\n",
    "    batch_xs, batch_ys = iter_.next()  #mnist.train.next_batch(100)\n",
    "    sess.run(train_step, feed_dict={x: batch_xs, y_: batch_ys})\n",
    "\n",
    "final = sess.run(accuracy, feed_dict={x: test_digits, y_: test_labels})\n",
    "print final\n",
    "saver = tf.train.Saver()\n",
    "save_path = saver.save(sess, \"./models/one_layer.ckpt\")\n",
    "print(\"Model saved to %s\" % save_path)\n",
    "tf.reset_default_graph()\n",
    "sess = tf.InteractiveSession()\n",
    "\n"
   ]
  },
  {
   "cell_type": "markdown",
   "metadata": {},
   "source": [
    "# RELU "
   ]
  },
  {
   "cell_type": "code",
   "execution_count": 156,
   "metadata": {
    "collapsed": false
   },
   "outputs": [
    {
     "name": "stdout",
     "output_type": "stream",
     "text": [
      "0.9672\n",
      "Model saved to ./models/relu.ckpt\n",
      "CPU times: user 20 s, sys: 1.25 s, total: 21.2 s\n",
      "Wall time: 4.61 s\n"
     ]
    }
   ],
   "source": [
    "%%time\n",
    "iter_ = data_iterator(train_digits, train_labels)      \n",
    "# could also change this to 784, 256 ->  256, 256-> 256, 10\n",
    "# http://stackoverflow.com/questions/41993311/adding-more-layers-to-tensorflow-mnist-tutorial-makes-accuracy-drop                          \n",
    "# but that would be unfair comparison\n",
    "# relu init http://cs231n.github.io/neural-networks-2/ -> relu bias \n",
    "\n",
    "x = tf.placeholder(tf.float32, [None, 784], name=\"input\")\n",
    "\n",
    "W = tf.Variable(tf.random_normal([784, 256], stddev=0.1)) \n",
    "W1 = tf.Variable(tf.random_normal([256, 256], stddev=0.1))\n",
    "W2 = tf.Variable(tf.random_normal([256, 10], stddev=0.1))\n",
    "b = tf.Variable(tf.zeros([256]))\n",
    "b1 = tf.Variable(tf.zeros([256]))\n",
    "b2 = tf.Variable(tf.zeros([10]))\n",
    "\n",
    "y = tf.matmul(x, W) + b\n",
    "y = tf.nn.relu(y)\n",
    "y = tf.matmul(y, W1) + b1\n",
    "y = tf.nn.relu(y)\n",
    "y = tf.nn.softmax(tf.matmul(y, W2) + b2, name=\"output\")\n",
    "\n",
    "y_ = tf.placeholder(tf.float32, [None, 10])\n",
    "\n",
    "init = tf.initialize_all_variables()\n",
    "sess.run(init)\n",
    "\n",
    "cross_entropy = tf.reduce_mean(-tf.reduce_sum(y_ * tf.log(y), reduction_indices=[1]))\n",
    "# use gradient descent just because.\n",
    "train_step = tf.train.GradientDescentOptimizer(0.5).minimize(cross_entropy)\n",
    "\n",
    "# evals\n",
    "correct_prediction = tf.equal(tf.argmax(y,1), tf.argmax(y_,1))\n",
    "accuracy = tf.reduce_mean(tf.cast(correct_prediction, tf.float32))\n",
    "\n",
    "init = tf.initialize_all_variables()\n",
    "sess.run(init)\n",
    "\n",
    "for _ in range(1000):\n",
    "    batch_xs, batch_ys = iter_.next()  #mnist.train.next_batch(100)\n",
    "    sess.run(train_step, feed_dict={x: batch_xs, y_: batch_ys})\n",
    "\n",
    "\n",
    "final = sess.run(accuracy, feed_dict={x: test_digits, y_: test_labels})\n",
    "print final\n",
    "\n",
    "saver = tf.train.Saver()\n",
    "save_path = saver.save(sess, \"./models/relu.ckpt\")\n",
    "print(\"Model saved to %s\" % save_path)\n",
    "\n",
    "tf.reset_default_graph()\n",
    "sess = tf.InteractiveSession()\n"
   ]
  },
  {
   "cell_type": "markdown",
   "metadata": {},
   "source": [
    "# SQUARED"
   ]
  },
  {
   "cell_type": "code",
   "execution_count": 158,
   "metadata": {
    "collapsed": false
   },
   "outputs": [
    {
     "name": "stdout",
     "output_type": "stream",
     "text": [
      "0.8923\n",
      "Model saved to ./models/one_layer_sqr.ckpt\n",
      "CPU times: user 2.12 s, sys: 356 ms, total: 2.47 s\n",
      "Wall time: 1.3 s\n"
     ]
    }
   ],
   "source": [
    "%%time\n",
    "iter_ = data_iterator(train_digits, train_labels)      \n",
    "# MODEL HERE \n",
    "##\n",
    "x = tf.placeholder(tf.float32, [None, 784], name=\"input\")\n",
    "# 10 weights to learn\n",
    "w1 = tf.Variable(tf.zeros([784, 10]))\n",
    "# 10 biases to learn\n",
    "b1 = tf.Variable(tf.zeros([10]))    \n",
    "y = tf.nn.softmax(tf.matmul(x, w1) + b1, name=\"output\")\n",
    "\n",
    "y_ = tf.placeholder(tf.float32, [None, 10])\n",
    "\n",
    "init = tf.initialize_all_variables()\n",
    "sess.run(init)\n",
    "\n",
    "'''THIS CHANGES FROM THE ONE LAYER MODEL'''\n",
    "cross_entropy = tf.reduce_mean(tf.square(y - y_))\n",
    "##\n",
    "train_step = tf.train.GradientDescentOptimizer(0.5).minimize(cross_entropy)\n",
    "\n",
    "correct_prediction = tf.equal(tf.argmax(y,1), tf.argmax(y_,1))\n",
    "accuracy = tf.reduce_mean(tf.cast(correct_prediction, tf.float32))\n",
    "\n",
    "init = tf.initialize_all_variables()\n",
    "sess.run(init)\n",
    "\n",
    "for _ in range(1000):\n",
    "    batch_xs, batch_ys = iter_.next()  #mnist.train.next_batch(100)\n",
    "    sess.run(train_step, feed_dict={x: batch_xs, y_: batch_ys})\n",
    "\n",
    "final = sess.run(accuracy, feed_dict={x: test_digits, y_: test_labels})\n",
    "print final\n",
    "\n",
    "saver = tf.train.Saver()\n",
    "save_path = saver.save(sess, \"./models/one_layer_sqr.ckpt\")\n",
    "print(\"Model saved to %s\" % save_path)\n",
    "tf.reset_default_graph()\n",
    "sess = tf.InteractiveSession()"
   ]
  },
  {
   "cell_type": "markdown",
   "metadata": {},
   "source": [
    "## CONVNET"
   ]
  },
  {
   "cell_type": "code",
   "execution_count": null,
   "metadata": {
    "collapsed": false
   },
   "outputs": [],
   "source": [
    "# tensorflow\n",
    "def weight_variable(shape):\n",
    "    initial = tf.truncated_normal(shape, stddev=0.1)\n",
    "    return tf.Variable(initial)\n",
    "\n",
    "def bias_variable(shape):\n",
    "    initial = tf.constant(0.1, shape=shape)\n",
    "    return tf.Variable(initial)\n",
    "\n",
    "def conv2d(x, W):\n",
    "    return tf.nn.conv2d(x, W, strides=[1, 1, 1, 1], padding='SAME')\n",
    "\n",
    "def max_pool_2x2(x):\n",
    "    return tf.nn.max_pool(x, ksize=[1, 2, 2, 1],\n",
    "                        strides=[1, 2, 2, 1], padding='SAME')\n",
    "\n",
    "iter_ = data_iterator(train_digits, train_labels)      \n",
    "\n",
    "x = tf.placeholder(tf.float32, shape=[None, 784], name=\"input\")\n",
    "y_ = tf.placeholder(tf.float32, shape=[None, 10])\n",
    "\n",
    "W = tf.Variable(tf.zeros([784,10]))\n",
    "b = tf.Variable(tf.zeros([10]))\n",
    "\n",
    "W_conv1 = weight_variable([5, 5, 1, 32])\n",
    "b_conv1 = bias_variable([32])\n",
    "x_image = tf.reshape(x, [-1,28,28,1])\n",
    "h_conv1 = tf.nn.relu(conv2d(x_image, W_conv1) + b_conv1)\n",
    "h_pool1 = max_pool_2x2(h_conv1)\n",
    "\n",
    "W_conv2 = weight_variable([5, 5, 32, 64])\n",
    "b_conv2 = bias_variable([64])\n",
    "h_conv2 = tf.nn.relu(conv2d(h_pool1, W_conv2) + b_conv2)\n",
    "h_pool2 = max_pool_2x2(h_conv2)\n",
    "\n",
    "W_fc1 = weight_variable([7 * 7 * 64, 1024])\n",
    "b_fc1 = bias_variable([1024])\n",
    "h_pool2_flat = tf.reshape(h_pool2, [-1, 7*7*64])\n",
    "h_fc1 = tf.nn.relu(tf.matmul(h_pool2_flat, W_fc1) + b_fc1)\n",
    "\n",
    "keep_prob = tf.placeholder(tf.float32, name=\"keep_prob\")\n",
    "h_fc1_drop = tf.nn.dropout(h_fc1, keep_prob)\n",
    "\n",
    "W_fc2 = weight_variable([1024, 10])\n",
    "b_fc2 = bias_variable([10])\n",
    "y_conv = tf.nn.softmax(tf.matmul(h_fc1_drop, W_fc2) + b_fc2, name=\"output\")\n",
    "\n",
    "init = tf.initialize_all_variables()\n",
    "sess.run(init)\n",
    "\n",
    "cross_entropy = tf.reduce_mean(\n",
    "tf.nn.softmax_cross_entropy_with_logits(labels=y_, logits=y_conv))\n",
    "train_step = tf.train.AdamOptimizer(1e-4).minimize(cross_entropy)\n",
    "correct_prediction = tf.equal(tf.argmax(y_conv,1), tf.argmax(y_,1))\n",
    "accuracy = tf.reduce_mean(tf.cast(correct_prediction, tf.float32))\n",
    "\n",
    "init = tf.initialize_all_variables()\n",
    "sess.run(init)\n",
    "\n",
    "# train 1000 batches of size 100 (defined in iterator function)\n",
    "for _ in range(1000):\n",
    "    batch_xs, batch_ys = iter_.next() \n",
    "    sess.run(train_step, feed_dict={x: batch_xs, y_: batch_ys, keep_prob: 0.5})\n",
    "    \n",
    "# evaluation\n",
    "correct_prediction = tf.equal(tf.argmax(y_conv,1), tf.argmax(y_,1))\n",
    "accuracy = tf.reduce_mean(tf.cast(correct_prediction, tf.float32))\n",
    "final = sess.run(accuracy, feed_dict={x: test_digits, y_: test_labels, keep_prob: 1.0})\n",
    "print final\n",
    "\n",
    "saver = tf.train.Saver()\n",
    "save_path = saver.save(sess, \"./models/conv.ckpt\")\n",
    "print(\"Model saved to %s\" % save_path)\n",
    "tf.reset_default_graph()\n",
    "sess = tf.InteractiveSession()\n"
   ]
  },
  {
   "cell_type": "markdown",
   "metadata": {},
   "source": [
    "## Bidirectional rnn"
   ]
  },
  {
   "cell_type": "code",
   "execution_count": 161,
   "metadata": {
    "collapsed": true
   },
   "outputs": [],
   "source": [
    "# Parameters\n",
    "learning_rate = 0.001\n",
    "training_iters = 100000\n",
    "batch_size = 128\n",
    "display_step = 10\n",
    "\n",
    "# Network Parameters\n",
    "n_input = 28 # MNIST data input (img shape: 28*28)\n",
    "n_steps = 28 # timesteps\n",
    "n_hidden = 128 # hidden layer num of features\n",
    "n_classes = 10 # MNIST total classes (0-9 digits)\n",
    "\n",
    "# tf Graph input\n",
    "x = tf.placeholder(tf.float32, [None, n_steps, n_input], name=\"input\")\n",
    "y_ = tf.placeholder(tf.float32, [None, n_classes])\n",
    "\n",
    "# Define weights\n",
    "weights = {\n",
    "    # Hidden layer weights => 2*n_hidden because of foward + backward cells\n",
    "    'out': tf.Variable(tf.random_normal([2*n_hidden, n_classes]))\n",
    "}\n",
    "biases = {\n",
    "    'out': tf.Variable(tf.random_normal([n_classes]))\n",
    "}"
   ]
  },
  {
   "cell_type": "code",
   "execution_count": 162,
   "metadata": {
    "collapsed": false
   },
   "outputs": [
    {
     "name": "stdout",
     "output_type": "stream",
     "text": [
      "<class 'tensorflow.python.framework.ops.Tensor'>\n",
      "Tensor(\"output:0\", shape=(?, 10), dtype=float32)\n",
      "0.984375\n",
      "Model saved to ./models/birnn.ckpt\n",
      "CPU times: user 3min 23s, sys: 20.6 s, total: 3min 44s\n",
      "Wall time: 48.4 s\n"
     ]
    }
   ],
   "source": [
    "%%time\n",
    "# https://github.com/aymericdamien/TensorFlow-Examples\n",
    "from tensorflow.contrib import rnn\n",
    "def BiRNN(x, weights, biases):\n",
    "\n",
    "    # Prepare data shape to match `bidirectional_rnn` function requirements\n",
    "    # Current data input shape: (batch_size, n_steps, n_input)\n",
    "    # Required shape: 'n_steps' tensors list of shape (batch_size, n_input)\n",
    "    \n",
    "    # unstack v1.0.0 so we use unpack\n",
    "    # Unpack to get a list of 'n_steps' tensors of shape (batch_size, n_input)\n",
    "    x = tf.unpack(x, n_steps, 1)\n",
    "\n",
    "    # Define lstm cells with tensorflow\n",
    "    # Forward direction cell\n",
    "    with tf.variable_scope('forward', reuse=True):\n",
    "        lstm_fw_cell  = tf.nn.rnn_cell.BasicLSTMCell(n_hidden, forget_bias=1.0)\n",
    "    with tf.variable_scope('backward', reuse=True):\n",
    "        lstm_bw_cell = tf.nn.rnn_cell.BasicLSTMCell(n_hidden, forget_bias=1.0)\n",
    "\n",
    "    # Get lstm cell output\n",
    "    try:\n",
    "        with tf.variable_scope('outputs_2',reuse=None):\n",
    "            outputs, _, _ = tf.nn.bidirectional_rnn(lstm_fw_cell, lstm_bw_cell, x,\n",
    "                                                  dtype=tf.float32)\n",
    "    except Exception: # Old TensorFlow version only returns outputs not states\n",
    "        with tf.variable_scope('outputs',reuse=None):    \n",
    "            outputs = tf.nn.bidirectional_rnn(lstm_fw_cell, lstm_bw_cell, x,\n",
    "                                            dtype=tf.float32)\n",
    "\n",
    "    # Linear activation, using rnn inner loop last output\n",
    "    # NAME FOR SAVING\n",
    "    return tf.add(tf.matmul(outputs[-1], weights['out']), biases['out'], name=\"output\")\n",
    "\n",
    "sess.close()\n",
    "sess = tf.InteractiveSession()\n",
    "\n",
    "pred = BiRNN(x, weights, biases)\n",
    "\n",
    "print type(pred)\n",
    "print pred\n",
    "\n",
    "\n",
    "init = tf.initialize_all_variables()\n",
    "sess.run(init)\n",
    "\n",
    "\n",
    "# Define loss and optimizer\n",
    "cost = tf.reduce_mean(tf.nn.softmax_cross_entropy_with_logits(logits=pred, labels=y_))\n",
    "optimizer = tf.train.AdamOptimizer(learning_rate=learning_rate).minimize(cost)\n",
    "\n",
    "# Evaluate model\n",
    "correct_pred = tf.equal(tf.argmax(pred,1), tf.argmax(y_,1))\n",
    "accuracy = tf.reduce_mean(tf.cast(correct_pred, tf.float32))\n",
    "\n",
    "init = tf.initialize_all_variables()\n",
    "sess.run(init)\n",
    "\n",
    "step = 0\n",
    "while step * batch_size < training_iters:\n",
    "    batch_x, batch_y = mnist.train.next_batch(batch_size)\n",
    "    # Reshape data to get 28 seq of 28 elements\n",
    "    batch_x = batch_x.reshape((batch_size, n_steps, n_input))\n",
    "    # Run optimization op (backprop)\n",
    "    sess.run(optimizer, feed_dict={x: batch_x, y_: batch_y})\n",
    "    \n",
    "    # to check if the training improves\n",
    "    # if step % display_step == 0:\n",
    "        # print sess.run(accuracy, feed_dict={x: batch_x, y: batch_y})\n",
    "    step+=1\n",
    "\n",
    "# calculate accuracy on 256 digits\n",
    "test_len = 256\n",
    "# remember to reshape\n",
    "test_data = mnist.test.images[:test_len].reshape((-1, n_steps, n_input))\n",
    "test_labels = mnist.test.labels[:test_len]\n",
    "\n",
    "print sess.run(accuracy, feed_dict={x: test_data, y_: test_labels})\n",
    "saver = tf.train.Saver()\n",
    "save_path = saver.save(sess, \"./models/birnn.ckpt\")\n",
    "print(\"Model saved to %s\" % save_path)\n",
    "tf.reset_default_graph()\n",
    "sess = tf.InteractiveSession()\n",
    "\n",
    "    "
   ]
  },
  {
   "cell_type": "code",
   "execution_count": 84,
   "metadata": {
    "collapsed": false
   },
   "outputs": [
    {
     "data": {
      "text/plain": [
       "(6, 28, 28)"
      ]
     },
     "execution_count": 84,
     "metadata": {},
     "output_type": "execute_result"
    }
   ],
   "source": [
    "mnist.test.images[4:10].reshape((-1, n_steps, n_input)).shape"
   ]
  },
  {
   "cell_type": "code",
   "execution_count": null,
   "metadata": {
    "collapsed": true
   },
   "outputs": [],
   "source": []
  },
  {
   "cell_type": "code",
   "execution_count": null,
   "metadata": {
    "collapsed": true
   },
   "outputs": [],
   "source": [
    "'''MAYBE USEFUL LATER'''\n",
    "'''\n",
    "print \"validation accuracy:\", val_accuracy\n",
    "y_true = np.argmax(test_label,1)\n",
    "print \"Precision\", sk.metrics.precision_score(y_true, y_pred)\n",
    "print \"Recall\", sk.metrics.recall_score(y_true, y_pred)\n",
    "print \"f1_score\", sk.metrics.f1_score(y_true, y_pred)\n",
    "print \"confusion_matrix\"\n",
    "print sk.metrics.confusion_matrix(y_true, y_pred)\n",
    "fpr, tpr, tresholds = sk.metrics.roc_curve(y_true, y_pred)\n",
    "'''"
   ]
  }
 ],
 "metadata": {
  "kernelspec": {
   "display_name": "Python [tensorflow]",
   "language": "python",
   "name": "Python [tensorflow]"
  },
  "language_info": {
   "codemirror_mode": {
    "name": "ipython",
    "version": 2
   },
   "file_extension": ".py",
   "mimetype": "text/x-python",
   "name": "python",
   "nbconvert_exporter": "python",
   "pygments_lexer": "ipython2",
   "version": "2.7.12"
  }
 },
 "nbformat": 4,
 "nbformat_minor": 0
}
