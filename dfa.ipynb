{
 "cells": [
  {
   "cell_type": "markdown",
   "metadata": {},
   "source": [
    "# Direct Feedback Alignment Provides Learning In Deep Neural Networks\n",
    "\n",
    "Feedforwd Network implementation using direct feedback alignment for optimization.\n",
    "Data utilities are from the source code of the udacity deep learning course."
   ]
  },
  {
   "cell_type": "code",
   "execution_count": 4,
   "metadata": {
    "collapsed": false
   },
   "outputs": [
    {
     "name": "stdout",
     "output_type": "stream",
     "text": [
      "Extracting MNIST_data/train-images-idx3-ubyte.gz\n",
      "Extracting MNIST_data/train-labels-idx1-ubyte.gz\n",
      "Extracting MNIST_data/t10k-images-idx3-ubyte.gz\n",
      "Extracting MNIST_data/t10k-labels-idx1-ubyte.gz\n"
     ]
    }
   ],
   "source": [
    "# These are all the modules we'll be using later. Make sure you can import them\n",
    "# before proceeding further.\n",
    "\n",
    "# GPU setting\n",
    "#import os\n",
    "#os.environ[\"CUDA_VISIBLE_DEVICES\"]=\"0\"\n",
    "\n",
    "from __future__ import print_function\n",
    "import numpy as np\n",
    "import tensorflow as tf\n",
    "from six.moves import cPickle as pickle\n",
    "from six.moves import range\n",
    "from tensorflow.examples.tutorials.mnist import input_data\n",
    "mnist = input_data.read_data_sets(\"MNIST_data/\", one_hot=True)\n"
   ]
  },
  {
   "cell_type": "markdown",
   "metadata": {},
   "source": [
    "Load data set."
   ]
  },
  {
   "cell_type": "code",
   "execution_count": 5,
   "metadata": {
    "collapsed": false
   },
   "outputs": [],
   "source": [
    "digits, labels = mnist.train.images[:], mnist.train.labels[:]\n",
    "test_digits, test_labels = mnist.test.images[:], mnist.test.labels[:]"
   ]
  },
  {
   "cell_type": "code",
   "execution_count": 6,
   "metadata": {
    "collapsed": false
   },
   "outputs": [
    {
     "name": "stdout",
     "output_type": "stream",
     "text": [
      "Training set (55000, 784) (55000, 10)\n",
      "Test set (10000, 784) (10000, 10)\n"
     ]
    }
   ],
   "source": [
    "image_size = 28\n",
    "num_labels = 10\n",
    "\n",
    "def accuracy(predictions, labels):\n",
    "  return (100.0 * np.sum(np.argmax(predictions, 1) == np.argmax(labels, 1))\n",
    "          / predictions.shape[0])\n",
    "\n",
    "\n",
    "print('Training set', digits.shape, labels.shape)\n",
    "print('Test set', test_digits.shape, test_labels.shape)"
   ]
  },
  {
   "cell_type": "code",
   "execution_count": 7,
   "metadata": {
    "collapsed": true
   },
   "outputs": [],
   "source": [
    "def drelu(x):\n",
    "    zero = tf.zeros(x.get_shape())\n",
    "    one = tf.ones(x.get_shape())\n",
    "    return(tf.select(tf.greater(x, zero), one, zero))\n",
    "\n",
    "def dtanh(x):\n",
    "    return(1-tf.mul(tf.nn.tanh(x),tf.nn.tanh(x)))\n",
    "\n",
    "def act_ftn(name):\n",
    "    if(name == \"tanh\"):\n",
    "        return(tf.nn.tanh)\n",
    "    elif(name == \"relu\"):\n",
    "        return(tf.nn.relu)\n",
    "    else:\n",
    "        print(\"not tanh or relu\")\n",
    "        \n",
    "def dact_ftn(name):\n",
    "    if(name == \"tanh\"):\n",
    "        return(dtanh)\n",
    "    elif(name == \"relu\"):\n",
    "        return(drelu)\n",
    "    else:\n",
    "        print(\"not tanh or relu\")\n",
    "\n",
    "def init_ftn(name, num_input, num_output, runiform_range):\n",
    "    if(name == \"normal\"):\n",
    "        return(tf.truncated_normal([num_input, num_output]))\n",
    "    elif(name == \"uniform\"):\n",
    "        return(tf.random_uniform([num_input, num_output], minval = -runiform_range, maxval = runiform_range ))\n",
    "    else:\n",
    "        print(\"not normal or uniform\")"
   ]
  },
  {
   "cell_type": "code",
   "execution_count": 8,
   "metadata": {
    "collapsed": false
   },
   "outputs": [],
   "source": [
    "class Weights:\n",
    "    def __init__(self, batch_size, num_input, num_output, num_final, \n",
    "                 act_f, init_f, notfinal = True, back_init_f = \"uniform\", \n",
    "                 weight_uni_range = 0.05, back_uni_range = 0.5):\n",
    "        self.weights = tf.Variable(init_ftn(init_f, num_input, num_output, weight_uni_range))\n",
    "        self.biases = tf.Variable(tf.zeros([num_output]))\n",
    "        backward_t = tf.Variable(init_ftn(back_init_f, num_final, num_output, back_uni_range))\n",
    "        self.backward = tf.reshape(tf.pack([backward_t for _ in range(batch_size)]), [batch_size, num_final, num_output])\n",
    "        \n",
    "        self.batch_size = batch_size\n",
    "        self.num_input = num_input\n",
    "        self.num_output = num_output\n",
    "        self.num_final = num_final\n",
    "        self.activation = act_ftn(act_f)\n",
    "        self.dactivation = dact_ftn(act_f)\n",
    "        self.notfinal = notfinal\n",
    "\n",
    "        self.inputs = None\n",
    "        self.before_activation = None\n",
    "    \n",
    "    def __call__(self, x, batch_size):\n",
    "        if (batch_size == self.batch_size):\n",
    "            self.inputs = tf.reshape(x, [batch_size, self.num_input, 1])\n",
    "            self.before_activation = tf.matmul(x, self.weights) + self.biases\n",
    "            if (self.notfinal):\n",
    "                return(self.activation(self.before_activation))\n",
    "            else:\n",
    "                return(self.before_activation)\n",
    "        else:\n",
    "            before_activation = tf.matmul(x, self.weights) + self.biases\n",
    "            if (self.notfinal):\n",
    "                return(self.activation(before_activation))\n",
    "            else:\n",
    "                return(before_activation)\n",
    "    \n",
    "    def optimize(self, dError_dy, lr = 0.01):\n",
    "        #dError_dy dim is [batch_size, 1, num_fianl]\n",
    "        if (self.notfinal):\n",
    "            dError_dhidden = tf.batch_matmul(dError_dy, \n",
    "                                         tf.batch_matmul(self.backward, tf.matrix_diag(self.dactivation(self.before_activation))))\n",
    "            delta_weights = tf.reduce_mean(tf.batch_matmul(self.inputs, dError_dhidden), 0)\n",
    "            delta_biases = tf.reduce_mean(dError_dhidden, 0)\n",
    "        else:\n",
    "            delta_weights = tf.reduce_mean(tf.batch_matmul(self.inputs, dError_dy), 0)\n",
    "            delta_biases = tf.reduce_mean(dError_dy, 0)\n",
    "        change_weights = tf.assign_sub(self.weights, lr*delta_weights)\n",
    "        change_biases = tf.assign_sub(self.biases, lr*tf.reshape(delta_biases,(self.num_output,)))\n",
    "        return change_weights, change_biases"
   ]
  },
  {
   "cell_type": "code",
   "execution_count": 17,
   "metadata": {
    "collapsed": true
   },
   "outputs": [],
   "source": [
    "# hyper parameter setting\n",
    "\n",
    "image_size = 28\n",
    "batch_size = 100\n",
    "valid_size = test_size = 10000\n",
    "num_data_input = image_size*image_size\n",
    "num_hidden = 1000\n",
    "num_labels = 10\n",
    "act_f = \"relu\" # Activation function\n",
    "init_f = \"uniform\" # Initializing weights using init_f distribution. Recommend to use uniform.\n",
    "back_init_f = \"uniform\" # Initializing direct feed back weights using back_init_f distribution. Recommend to use uniform.\n",
    "weight_uni_range = 0.05\n",
    "back_uni_range = 0.5\n",
    "lr = 0.005\n",
    "num_layer = 3 #should be >= 3\n",
    "num_steps = 5000"
   ]
  },
  {
   "cell_type": "code",
   "execution_count": 18,
   "metadata": {
    "collapsed": false
   },
   "outputs": [],
   "source": [
    "graph = tf.Graph()\n",
    "\n",
    "with graph.as_default():\n",
    "\n",
    "    # Input data. For the training data, we use a placeholder that will be fed\n",
    "    # at run time with a training minibatch.\n",
    "    tf_train_dataset = tf.placeholder(tf.float32,\n",
    "                                      shape=(batch_size, image_size * image_size))\n",
    "    tf_train_labels = tf.placeholder(tf.float32, shape=(batch_size, num_labels))\n",
    "    # tf_valid_dataset = tf.constant(valid_dataset)\n",
    "    tf_test_dataset = tf.constant(test_digits)\n",
    "    \n",
    "    # model building\n",
    "    Weight_list = {}\n",
    "\n",
    "    name = \"W0\"\n",
    "    Weight_list[name] = Weights(batch_size, num_data_input, num_hidden, num_labels, act_f, init_f, True, back_init_f, weight_uni_range, back_uni_range)\n",
    "\n",
    "    for i in range(num_layer-3):\n",
    "        name = \"W\" + str(i+1)\n",
    "        Weight_list[name] = Weights(batch_size, num_hidden, num_hidden, num_labels, act_f, init_f, True, back_init_f, weight_uni_range, back_uni_range)\n",
    "\n",
    "    name = \"W\" + str(num_layer-2)\n",
    "    Weight_list[name] = Weights(batch_size, num_hidden, num_labels, num_labels, act_f, init_f, False, back_init_f, weight_uni_range, back_uni_range)\n",
    "\n",
    "    y_train = None\n",
    "    x_train = tf_train_dataset\n",
    "    for i in range(num_layer-1):\n",
    "        name = \"W\"+str(i)\n",
    "        if (i != num_layer - 2):\n",
    "            x_train = Weight_list[name](x_train, batch_size)\n",
    "        else:\n",
    "            y_train = Weight_list[name](x_train, batch_size)\n",
    "    logits = y_train\n",
    "    cross_entropy = tf.nn.softmax_cross_entropy_with_logits(logits, tf_train_labels)\n",
    "    loss = tf.reduce_mean(cross_entropy)\n",
    "    \n",
    "    dError_dy = tf.reshape(tf.gradients(cross_entropy, logits)[0], [batch_size, 1, num_labels])\n",
    "    \n",
    "    # optimization\n",
    "    train_list = []\n",
    "    for i in range(num_layer-1):\n",
    "        name = \"W\"+str(i)\n",
    "        train_list += Weight_list[name].optimize(dError_dy, lr)\n",
    "\n",
    "    '''y_valid = None\n",
    "    x_valid = tf_valid_dataset\n",
    "    for i in range(num_layer-1):\n",
    "        name = \"W\"+str(i)\n",
    "        if (i != num_layer - 2):\n",
    "            x_valid = Weight_list[name](x_valid, valid_size)\n",
    "        else:\n",
    "            y_valid = Weight_list[name](x_valid, valid_size)\n",
    "    logits_valid = y_valid'''\n",
    "    \n",
    "    y_test = None\n",
    "    x_test = tf_test_dataset\n",
    "    for i in range(num_layer-1):\n",
    "        name = \"W\"+str(i)\n",
    "        if (i != num_layer - 2):\n",
    "            x_test = Weight_list[name](x_test, test_size)\n",
    "        else:\n",
    "            y_test = Weight_list[name](x_test, test_size)\n",
    "    logits_test = y_test\n",
    "    \n",
    "    # Predictions for the training, validation, and test data.\n",
    "    train_prediction = tf.nn.softmax(logits)\n",
    "    # valid_prediction = tf.nn.softmax(logits_valid)\n",
    "    test_prediction = tf.nn.softmax(logits_test)"
   ]
  },
  {
   "cell_type": "code",
   "execution_count": null,
   "metadata": {
    "collapsed": false
   },
   "outputs": [
    {
     "name": "stdout",
     "output_type": "stream",
     "text": [
      "Initialized\n",
      "Minibatch loss at step 0: 2.293149\n",
      "Minibatch accuracy: 11.0%\n",
      "Minibatch loss at step 50: 2.167094\n",
      "Minibatch accuracy: 32.0%\n",
      "Minibatch loss at step 100: 1.804323\n",
      "Minibatch accuracy: 65.0%\n",
      "Minibatch loss at step 150: 1.480418\n",
      "Minibatch accuracy: 64.0%\n",
      "Minibatch loss at step 200: 1.159681\n",
      "Minibatch accuracy: 74.0%\n"
     ]
    }
   ],
   "source": [
    "with tf.Session(graph=graph) as session:\n",
    "    tf.initialize_all_variables().run()\n",
    "    print(\"Initialized\")\n",
    "    for step in range(1000):\n",
    "      # Pick an offset within the training data, which has been randomized.\n",
    "      # Note: we could use better randomization across epochs.\n",
    "      # offset = (step * batch_size) % (labels.shape[0] - batch_size)\n",
    "      # Generate a minibatch.\n",
    "      batch_data, batch_labels  = mnist.train.next_batch(100)\n",
    "      # Prepare a dictionary telling the session where to feed the minibatch.\n",
    "      # The key of the dictionary is the placeholder node of the graph to be fed,\n",
    "      # and the value is the numpy array to feed to it.\n",
    "      feed_dict = {tf_train_dataset : batch_data, tf_train_labels : batch_labels}\n",
    "      l, predictions = session.run([loss, train_prediction], feed_dict=feed_dict)\n",
    "      session.run(train_list, feed_dict = feed_dict)\n",
    "      if (step % 50 == 0):\n",
    "        print(\"Minibatch loss at step %d: %f\" % (step, l))\n",
    "        print(\"Minibatch accuracy: %.1f%%\" % accuracy(predictions, batch_labels))\n",
    "        # print(\"Validation accuracy: %.1f%%\" % accuracy(\n",
    "        #   valid_prediction.eval(), valid_labels))\n",
    "    print(\"Test accuracy: %.1f%%\" % accuracy(test_prediction.eval(), test_labels))"
   ]
  },
  {
   "cell_type": "code",
   "execution_count": null,
   "metadata": {
    "collapsed": true
   },
   "outputs": [],
   "source": []
  }
 ],
 "metadata": {
  "anaconda-cloud": {},
  "kernelspec": {
   "display_name": "Python [tensorflow]",
   "language": "python",
   "name": "Python [tensorflow]"
  },
  "language_info": {
   "codemirror_mode": {
    "name": "ipython",
    "version": 2
   },
   "file_extension": ".py",
   "mimetype": "text/x-python",
   "name": "python",
   "nbconvert_exporter": "python",
   "pygments_lexer": "ipython2",
   "version": "2.7.12"
  }
 },
 "nbformat": 4,
 "nbformat_minor": 0
}
